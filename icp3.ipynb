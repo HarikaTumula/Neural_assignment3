{
  "nbformat": 4,
  "nbformat_minor": 0,
  "metadata": {
    "colab": {
      "provenance": [],
      "authorship_tag": "ABX9TyN9dmvWo0Yi7Zqkyn+nt6FK",
      "include_colab_link": true
    },
    "kernelspec": {
      "name": "python3",
      "display_name": "Python 3"
    },
    "language_info": {
      "name": "python"
    }
  },
  "cells": [
    {
      "cell_type": "markdown",
      "metadata": {
        "id": "view-in-github",
        "colab_type": "text"
      },
      "source": [
        "<a href=\"https://colab.research.google.com/github/HarikaTumula/Neural_assignment3/blob/main/icp3.ipynb\" target=\"_parent\"><img src=\"https://colab.research.google.com/assets/colab-badge.svg\" alt=\"Open In Colab\"/></a>"
      ]
    },
    {
      "cell_type": "code",
      "execution_count": 94,
      "metadata": {
        "colab": {
          "base_uri": "https://localhost:8080/"
        },
        "id": "5ThZF-VwRqBo",
        "outputId": "61bf9157-8380-4b68-b584-db018a25b3c4"
      },
      "outputs": [
        {
          "output_type": "stream",
          "name": "stdout",
          "text": [
            "<class '__main__.Employee'>\n"
          ]
        }
      ],
      "source": [
        "class Employee:\n",
        "\n",
        " print(Employee)"
      ]
    },
    {
      "cell_type": "code",
      "source": [
        "class Employee:\n",
        "  empcount = 0\n",
        "\n",
        "  def __init__(self, name, age, id, dept):\n",
        "    self.name = name\n",
        "    self.age = age\n",
        "    self.id = id\n",
        "    self.dept = dept \n",
        "\n",
        "    Employee.empcount += 1\n",
        "\n",
        "E1 = Employee(\"Harika\", 28, 2535, 'HR')\n",
        "E2 = Employee(\"Vinith\", 30, 2536, 'IT')\n",
        "E3 = Employee(\"Spandana\", 28, 2537, 'Engineer')\n",
        "E4 = Employee('Sweety', 27, 2538, 'IT')\n",
        "\n",
        "print(\"Total count of employees is \",Employee.empcount)"
      ],
      "metadata": {
        "colab": {
          "base_uri": "https://localhost:8080/"
        },
        "id": "e1Wc9i-XTWdG",
        "outputId": "0270952f-bfbb-4dcc-c269-69111e520299"
      },
      "execution_count": 25,
      "outputs": [
        {
          "output_type": "stream",
          "name": "stdout",
          "text": [
            "Total count of employees is  4\n"
          ]
        }
      ]
    },
    {
      "cell_type": "code",
      "source": [
        "class Employee:\n",
        "  def __init__(self, name, family, salary, dept):\n",
        "    self.name = name\n",
        "    self.family = family\n",
        "    self.salary = salary\n",
        "    self.dept = dept\n",
        "\n",
        "  def display(self):\n",
        "      print('Employee:',self.name,'Family:', self.family, 'Salary:', self.salary, 'Department:', self.dept)\n",
        " \n",
        "E1 = Employee(\"Harika\", 'Small', 25350, 'HR')\n",
        "E1.display()\n",
        "\n",
        "E2 = Employee(\"Vinith\", 'Small', 24350, 'IT')\n",
        "E2.display()\n",
        "\n",
        "E3 = Employee(\"Spandana\", 'Joint', 26350, 'HR')\n",
        "E3.display()"
      ],
      "metadata": {
        "colab": {
          "base_uri": "https://localhost:8080/"
        },
        "id": "160Uq-9fWUR5",
        "outputId": "9e0934fe-d9ac-4680-8922-a433d9032f25"
      },
      "execution_count": 100,
      "outputs": [
        {
          "output_type": "stream",
          "name": "stdout",
          "text": [
            "Employee: Harika Family: Small Salary: 25350 Department: HR\n",
            "Employee: Vinith Family: Small Salary: 24350 Department: IT\n",
            "Employee: Spandana Family: Joint Salary: 26350 Department: HR\n"
          ]
        }
      ]
    },
    {
      "cell_type": "code",
      "source": [
        "class Employee:\n",
        "  def __init__(self, name, family, salary, dept):\n",
        "    self.name = name\n",
        "    self.family = family\n",
        "    self.salary = salary\n",
        "    self.dept = dept\n",
        "\n",
        "  def solve(salary):\n",
        "   salary.remove(min(salary))\n",
        "   salary.remove(max(salary))\n",
        "   return sum(salary)/len(salary)\n",
        "\n",
        "salary = [80000,60000,20000,80500,20500,45000]\n",
        "print(solve(salary))\n"
      ],
      "metadata": {
        "colab": {
          "base_uri": "https://localhost:8080/"
        },
        "id": "o7Hpv8OZmDex",
        "outputId": "529f48af-61b7-4865-9e46-3af7c084ef16"
      },
      "execution_count": 90,
      "outputs": [
        {
          "output_type": "stream",
          "name": "stdout",
          "text": [
            "51375.0\n"
          ]
        }
      ]
    },
    {
      "cell_type": "code",
      "source": [
        "class Employee:\n",
        "  def __init__(self, name, age, id, dept):\n",
        "    self.name = name\n",
        "    self.age = age\n",
        "    self.id = id\n",
        "    self.dept = dept\n",
        "\n",
        "E1 = Employee(\"Harika\", 28, 2535, 'HR')\n",
        "E2 = Employee(\"Vinith\", 30, 2536, 'IT')\n",
        "E3 = Employee(\"Spandana\", 28, 2537, 'Engineer')\n",
        "\n",
        "print(\"Employee1:\", E1.name)\n",
        "print('age:', E1.age)\n",
        "print('id:', E1.id)\n",
        "print('dept:', E1.dept)\n",
        "print('Employee2:', E2.name)\n",
        "print('age:', E2.age)\n",
        "print('id:', E2.id)\n",
        "print('dept:', E2.dept)\n",
        "print('Employee3:', E3.name)\n",
        "print('age:', E3.age)\n",
        "print('id:', E3.id)\n",
        "print('dept:', E3.dept)\n",
        "\n",
        "class Fulltime_emp(Employee):\n",
        "   def display(self):\n",
        "       print(\"fulltime_employee \" + self.name)\n",
        "\n",
        "emp = Fulltime_emp(\"Singedi Reddy\", 30, 2564, 'Sr.Engineer')\n",
        "\n",
        "print(emp.name)\n",
        "emp.display()"
      ],
      "metadata": {
        "colab": {
          "base_uri": "https://localhost:8080/"
        },
        "id": "dQzeUQhrzxYD",
        "outputId": "7f9b6268-2a8d-4ff6-d638-efe568633b11"
      },
      "execution_count": 98,
      "outputs": [
        {
          "output_type": "stream",
          "name": "stdout",
          "text": [
            "Employee1: Harika\n",
            "age: 28\n",
            "id: 2535\n",
            "dept: HR\n",
            "Employee2: Vinith\n",
            "age: 30\n",
            "id: 2536\n",
            "dept: IT\n",
            "Employee3: Spandana\n",
            "age: 28\n",
            "id: 2537\n",
            "dept: Engineer\n",
            "Singedi Reddy\n",
            "fulltime_employee Singedi Reddy\n"
          ]
        }
      ]
    },
    {
      "cell_type": "code",
      "source": [
        "class Employee:\n",
        "  def __init__(self):\n",
        "        self._database = []\n",
        "\n",
        "  def add_employee(self, name, age, salary, dept):\n",
        "        self._database.append((name, age, salary, dept))\n",
        "\n",
        "new_emp = Employee()\n",
        "\n",
        "def add_employee_input(database):\n",
        "      database.add_employee(\n",
        "        input('Enter name:'),\n",
        "        input('Enter age:'),\n",
        "        input('Enter salary:'),\n",
        "        input('Enter dept:'),\n",
        "    )\n",
        "  \n",
        "add_employee_input(new_emp)"
      ],
      "metadata": {
        "colab": {
          "base_uri": "https://localhost:8080/"
        },
        "id": "Jsv6eLYI92KC",
        "outputId": "963f6a13-0fb1-4691-9cf5-3f564e28de9f"
      },
      "execution_count": 111,
      "outputs": [
        {
          "name": "stdout",
          "output_type": "stream",
          "text": [
            "Enter name:Harika\n",
            "Enter age:28\n",
            "Enter salary:25000\n",
            "Enter dept:hr\n"
          ]
        }
      ]
    },
    {
      "cell_type": "code",
      "source": [
        "import numpy as np\n",
        "x = np.random.randint(20,size=(20))\n",
        "x"
      ],
      "metadata": {
        "colab": {
          "base_uri": "https://localhost:8080/"
        },
        "id": "vwFdSQvD_2f2",
        "outputId": "54d8d816-c7e7-46e4-d9a1-8481c3b6a7fc"
      },
      "execution_count": 259,
      "outputs": [
        {
          "output_type": "execute_result",
          "data": {
            "text/plain": [
              "array([11, 12, 18,  9, 18,  9, 13,  9,  7,  1,  6, 10, 11, 18, 15, 14,  0,\n",
              "        2, 19, 15])"
            ]
          },
          "metadata": {},
          "execution_count": 259
        }
      ]
    },
    {
      "cell_type": "code",
      "source": [
        "x=x.reshape(4,5)\n",
        "x"
      ],
      "metadata": {
        "colab": {
          "base_uri": "https://localhost:8080/"
        },
        "id": "kakef-hMCTQD",
        "outputId": "220313a8-f697-4ef1-b32f-cca7dfcacc91"
      },
      "execution_count": 272,
      "outputs": [
        {
          "output_type": "execute_result",
          "data": {
            "text/plain": [
              "array([[11, 12, 18,  9, 18],\n",
              "       [ 9, 13,  9,  7,  1],\n",
              "       [ 6, 10, 11, 18, 15],\n",
              "       [14,  0,  2,  0, 15]])"
            ]
          },
          "metadata": {},
          "execution_count": 272
        }
      ]
    },
    {
      "cell_type": "code",
      "source": [
        "np.amax(x)           # Maximum of the flattened array\n",
        "np.amax(x, axis=1)\n"
      ],
      "metadata": {
        "colab": {
          "base_uri": "https://localhost:8080/"
        },
        "id": "ApP2lItbCg4f",
        "outputId": "f76ba327-b283-4278-d6c6-09b9bcb1a29e"
      },
      "execution_count": 276,
      "outputs": [
        {
          "output_type": "execute_result",
          "data": {
            "text/plain": [
              "array([18, 13, 18, 15])"
            ]
          },
          "metadata": {},
          "execution_count": 276
        }
      ]
    },
    {
      "cell_type": "code",
      "source": [
        "np.amax(x)           \n",
        "x[x==np.amax(x, axis=1)]=0\n",
        "x"
      ],
      "metadata": {
        "colab": {
          "base_uri": "https://localhost:8080/"
        },
        "id": "VWGaPak-OE3G",
        "outputId": "72ba3180-acdb-4910-aab2-442831935817"
      },
      "execution_count": 279,
      "outputs": [
        {
          "output_type": "stream",
          "name": "stderr",
          "text": [
            "<ipython-input-279-e37e3f0de9a9>:2: DeprecationWarning: elementwise comparison failed; this will raise an error in the future.\n",
            "  x[x==np.amax(x, axis=1)]=0\n"
          ]
        },
        {
          "output_type": "execute_result",
          "data": {
            "text/plain": [
              "array([[11, 12, 18,  9, 18],\n",
              "       [ 9, 13,  9,  7,  1],\n",
              "       [ 6, 10, 11, 18, 15],\n",
              "       [14,  0,  2,  0, 15]])"
            ]
          },
          "metadata": {},
          "execution_count": 279
        }
      ]
    }
  ]
}